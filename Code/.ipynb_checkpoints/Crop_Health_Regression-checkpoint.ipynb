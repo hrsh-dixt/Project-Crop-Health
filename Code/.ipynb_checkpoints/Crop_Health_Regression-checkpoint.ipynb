{
 "cells": [
  {
   "cell_type": "code",
   "execution_count": 2,
   "id": "18a2a69c",
   "metadata": {},
   "outputs": [],
   "source": [
    "import pandas as pd\n",
    "import numpy as np\n",
    "import matplotlib.pyplot as mp\n",
    "from sklearn import model_selection\n",
    "from sklearn.linear_model import LinearRegression"
   ]
  },
  {
   "cell_type": "code",
   "execution_count": 3,
   "id": "21cc0858",
   "metadata": {},
   "outputs": [],
   "source": [
    "ds=pd.read_csv('/Users/harshdixit/Downloads/Project_crop_health/Datasets/Crop_recommendation.csv')"
   ]
  },
  {
   "cell_type": "code",
   "execution_count": 4,
   "id": "1d18c9cd",
   "metadata": {},
   "outputs": [
    {
     "data": {
      "text/html": [
       "<div>\n",
       "<style scoped>\n",
       "    .dataframe tbody tr th:only-of-type {\n",
       "        vertical-align: middle;\n",
       "    }\n",
       "\n",
       "    .dataframe tbody tr th {\n",
       "        vertical-align: top;\n",
       "    }\n",
       "\n",
       "    .dataframe thead th {\n",
       "        text-align: right;\n",
       "    }\n",
       "</style>\n",
       "<table border=\"1\" class=\"dataframe\">\n",
       "  <thead>\n",
       "    <tr style=\"text-align: right;\">\n",
       "      <th></th>\n",
       "      <th>N</th>\n",
       "      <th>P</th>\n",
       "      <th>K</th>\n",
       "      <th>temperature</th>\n",
       "      <th>humidity</th>\n",
       "      <th>ph</th>\n",
       "      <th>rainfall</th>\n",
       "      <th>label</th>\n",
       "      <th>productivity</th>\n",
       "    </tr>\n",
       "  </thead>\n",
       "  <tbody>\n",
       "    <tr>\n",
       "      <th>0</th>\n",
       "      <td>82</td>\n",
       "      <td>40</td>\n",
       "      <td>40</td>\n",
       "      <td>23.830675</td>\n",
       "      <td>84.813601</td>\n",
       "      <td>6.271479</td>\n",
       "      <td>298.560117</td>\n",
       "      <td>rice</td>\n",
       "      <td>0.9098</td>\n",
       "    </tr>\n",
       "    <tr>\n",
       "      <th>1</th>\n",
       "      <td>60</td>\n",
       "      <td>43</td>\n",
       "      <td>44</td>\n",
       "      <td>21.019447</td>\n",
       "      <td>82.952217</td>\n",
       "      <td>7.416245</td>\n",
       "      <td>298.401847</td>\n",
       "      <td>rice</td>\n",
       "      <td>0.9096</td>\n",
       "    </tr>\n",
       "    <tr>\n",
       "      <th>2</th>\n",
       "      <td>93</td>\n",
       "      <td>47</td>\n",
       "      <td>37</td>\n",
       "      <td>21.533463</td>\n",
       "      <td>82.140041</td>\n",
       "      <td>6.500343</td>\n",
       "      <td>295.924880</td>\n",
       "      <td>rice</td>\n",
       "      <td>0.9094</td>\n",
       "    </tr>\n",
       "    <tr>\n",
       "      <th>3</th>\n",
       "      <td>79</td>\n",
       "      <td>42</td>\n",
       "      <td>37</td>\n",
       "      <td>24.873007</td>\n",
       "      <td>82.840226</td>\n",
       "      <td>6.587919</td>\n",
       "      <td>295.609449</td>\n",
       "      <td>rice</td>\n",
       "      <td>0.9092</td>\n",
       "    </tr>\n",
       "    <tr>\n",
       "      <th>4</th>\n",
       "      <td>88</td>\n",
       "      <td>35</td>\n",
       "      <td>40</td>\n",
       "      <td>23.579436</td>\n",
       "      <td>83.587603</td>\n",
       "      <td>5.853932</td>\n",
       "      <td>291.298662</td>\n",
       "      <td>rice</td>\n",
       "      <td>0.9090</td>\n",
       "    </tr>\n",
       "  </tbody>\n",
       "</table>\n",
       "</div>"
      ],
      "text/plain": [
       "    N   P   K  temperature   humidity        ph    rainfall label  \\\n",
       "0  82  40  40    23.830675  84.813601  6.271479  298.560117  rice   \n",
       "1  60  43  44    21.019447  82.952217  7.416245  298.401847  rice   \n",
       "2  93  47  37    21.533463  82.140041  6.500343  295.924880  rice   \n",
       "3  79  42  37    24.873007  82.840226  6.587919  295.609449  rice   \n",
       "4  88  35  40    23.579436  83.587603  5.853932  291.298662  rice   \n",
       "\n",
       "   productivity  \n",
       "0        0.9098  \n",
       "1        0.9096  \n",
       "2        0.9094  \n",
       "3        0.9092  \n",
       "4        0.9090  "
      ]
     },
     "execution_count": 4,
     "metadata": {},
     "output_type": "execute_result"
    }
   ],
   "source": [
    "ds.head()"
   ]
  },
  {
   "cell_type": "code",
   "execution_count": 5,
   "id": "9d9ccc1d",
   "metadata": {},
   "outputs": [
    {
     "data": {
      "text/html": [
       "<div>\n",
       "<style scoped>\n",
       "    .dataframe tbody tr th:only-of-type {\n",
       "        vertical-align: middle;\n",
       "    }\n",
       "\n",
       "    .dataframe tbody tr th {\n",
       "        vertical-align: top;\n",
       "    }\n",
       "\n",
       "    .dataframe thead th {\n",
       "        text-align: right;\n",
       "    }\n",
       "</style>\n",
       "<table border=\"1\" class=\"dataframe\">\n",
       "  <thead>\n",
       "    <tr style=\"text-align: right;\">\n",
       "      <th></th>\n",
       "      <th>N</th>\n",
       "      <th>P</th>\n",
       "      <th>K</th>\n",
       "      <th>temperature</th>\n",
       "      <th>humidity</th>\n",
       "      <th>ph</th>\n",
       "      <th>rainfall</th>\n",
       "      <th>productivity</th>\n",
       "    </tr>\n",
       "  </thead>\n",
       "  <tbody>\n",
       "    <tr>\n",
       "      <th>count</th>\n",
       "      <td>2200.000000</td>\n",
       "      <td>2200.000000</td>\n",
       "      <td>2200.000000</td>\n",
       "      <td>2200.000000</td>\n",
       "      <td>2200.000000</td>\n",
       "      <td>2200.000000</td>\n",
       "      <td>2200.000000</td>\n",
       "      <td>2200.000000</td>\n",
       "    </tr>\n",
       "    <tr>\n",
       "      <th>mean</th>\n",
       "      <td>50.551818</td>\n",
       "      <td>53.362727</td>\n",
       "      <td>48.149091</td>\n",
       "      <td>25.616244</td>\n",
       "      <td>71.481779</td>\n",
       "      <td>6.469480</td>\n",
       "      <td>103.463655</td>\n",
       "      <td>0.689900</td>\n",
       "    </tr>\n",
       "    <tr>\n",
       "      <th>std</th>\n",
       "      <td>36.917334</td>\n",
       "      <td>32.985883</td>\n",
       "      <td>50.647931</td>\n",
       "      <td>5.063749</td>\n",
       "      <td>22.263812</td>\n",
       "      <td>0.773938</td>\n",
       "      <td>54.958389</td>\n",
       "      <td>0.127046</td>\n",
       "    </tr>\n",
       "    <tr>\n",
       "      <th>min</th>\n",
       "      <td>0.000000</td>\n",
       "      <td>5.000000</td>\n",
       "      <td>5.000000</td>\n",
       "      <td>8.825675</td>\n",
       "      <td>14.258040</td>\n",
       "      <td>3.504752</td>\n",
       "      <td>20.211267</td>\n",
       "      <td>0.470000</td>\n",
       "    </tr>\n",
       "    <tr>\n",
       "      <th>25%</th>\n",
       "      <td>21.000000</td>\n",
       "      <td>28.000000</td>\n",
       "      <td>20.000000</td>\n",
       "      <td>22.769375</td>\n",
       "      <td>60.261953</td>\n",
       "      <td>5.971693</td>\n",
       "      <td>64.551686</td>\n",
       "      <td>0.579950</td>\n",
       "    </tr>\n",
       "    <tr>\n",
       "      <th>50%</th>\n",
       "      <td>37.000000</td>\n",
       "      <td>51.000000</td>\n",
       "      <td>32.000000</td>\n",
       "      <td>25.598693</td>\n",
       "      <td>80.473146</td>\n",
       "      <td>6.425045</td>\n",
       "      <td>94.867624</td>\n",
       "      <td>0.689900</td>\n",
       "    </tr>\n",
       "    <tr>\n",
       "      <th>75%</th>\n",
       "      <td>84.250000</td>\n",
       "      <td>68.000000</td>\n",
       "      <td>49.000000</td>\n",
       "      <td>28.561654</td>\n",
       "      <td>89.948771</td>\n",
       "      <td>6.923643</td>\n",
       "      <td>124.267508</td>\n",
       "      <td>0.799850</td>\n",
       "    </tr>\n",
       "    <tr>\n",
       "      <th>max</th>\n",
       "      <td>140.000000</td>\n",
       "      <td>145.000000</td>\n",
       "      <td>205.000000</td>\n",
       "      <td>43.675493</td>\n",
       "      <td>99.981876</td>\n",
       "      <td>9.935091</td>\n",
       "      <td>298.560117</td>\n",
       "      <td>0.909800</td>\n",
       "    </tr>\n",
       "  </tbody>\n",
       "</table>\n",
       "</div>"
      ],
      "text/plain": [
       "                 N            P            K  temperature     humidity  \\\n",
       "count  2200.000000  2200.000000  2200.000000  2200.000000  2200.000000   \n",
       "mean     50.551818    53.362727    48.149091    25.616244    71.481779   \n",
       "std      36.917334    32.985883    50.647931     5.063749    22.263812   \n",
       "min       0.000000     5.000000     5.000000     8.825675    14.258040   \n",
       "25%      21.000000    28.000000    20.000000    22.769375    60.261953   \n",
       "50%      37.000000    51.000000    32.000000    25.598693    80.473146   \n",
       "75%      84.250000    68.000000    49.000000    28.561654    89.948771   \n",
       "max     140.000000   145.000000   205.000000    43.675493    99.981876   \n",
       "\n",
       "                ph     rainfall  productivity  \n",
       "count  2200.000000  2200.000000   2200.000000  \n",
       "mean      6.469480   103.463655      0.689900  \n",
       "std       0.773938    54.958389      0.127046  \n",
       "min       3.504752    20.211267      0.470000  \n",
       "25%       5.971693    64.551686      0.579950  \n",
       "50%       6.425045    94.867624      0.689900  \n",
       "75%       6.923643   124.267508      0.799850  \n",
       "max       9.935091   298.560117      0.909800  "
      ]
     },
     "execution_count": 5,
     "metadata": {},
     "output_type": "execute_result"
    }
   ],
   "source": [
    "ds.describe()"
   ]
  },
  {
   "cell_type": "markdown",
   "id": "872c14ff",
   "metadata": {},
   "source": [
    "No null values in dataset"
   ]
  },
  {
   "cell_type": "code",
   "execution_count": 6,
   "id": "2b49edc2",
   "metadata": {},
   "outputs": [],
   "source": [
    "li=[]\n",
    "for it in ds.label:\n",
    "    if it not in li:\n",
    "        li.append(it)"
   ]
  },
  {
   "cell_type": "code",
   "execution_count": 7,
   "id": "a57a61fd",
   "metadata": {},
   "outputs": [
    {
     "name": "stdout",
     "output_type": "stream",
     "text": [
      "['rice', 'papaya', 'coconut', 'jute', 'coffee', 'pigeonpeas', 'kidneybeans', 'apple', 'banana', 'orange', 'pomegranate', 'maize', 'mango', 'cotton', 'chickpea', 'blackgram', 'grapes', 'mothbeans', 'mungbean', 'watermelon', 'lentil', 'muskmelon']\n",
      "Total Number of Label/Crop= 22\n"
     ]
    }
   ],
   "source": [
    "print(li)\n",
    "print(\"Total Number of Label/Crop=\",len(li))"
   ]
  },
  {
   "cell_type": "code",
   "execution_count": 39,
   "id": "f9b58d4e",
   "metadata": {},
   "outputs": [],
   "source": [
    "target=ds.label.astype('category').cat.codes\n",
    "ds['target']=target"
   ]
  },
  {
   "cell_type": "code",
   "execution_count": 40,
   "id": "3b92d449",
   "metadata": {},
   "outputs": [
    {
     "data": {
      "text/html": [
       "<div>\n",
       "<style scoped>\n",
       "    .dataframe tbody tr th:only-of-type {\n",
       "        vertical-align: middle;\n",
       "    }\n",
       "\n",
       "    .dataframe tbody tr th {\n",
       "        vertical-align: top;\n",
       "    }\n",
       "\n",
       "    .dataframe thead th {\n",
       "        text-align: right;\n",
       "    }\n",
       "</style>\n",
       "<table border=\"1\" class=\"dataframe\">\n",
       "  <thead>\n",
       "    <tr style=\"text-align: right;\">\n",
       "      <th></th>\n",
       "      <th>N</th>\n",
       "      <th>P</th>\n",
       "      <th>K</th>\n",
       "      <th>temperature</th>\n",
       "      <th>humidity</th>\n",
       "      <th>ph</th>\n",
       "      <th>rainfall</th>\n",
       "      <th>label</th>\n",
       "      <th>productivity</th>\n",
       "      <th>target</th>\n",
       "    </tr>\n",
       "  </thead>\n",
       "  <tbody>\n",
       "    <tr>\n",
       "      <th>0</th>\n",
       "      <td>82</td>\n",
       "      <td>40</td>\n",
       "      <td>40</td>\n",
       "      <td>23.830675</td>\n",
       "      <td>84.813601</td>\n",
       "      <td>6.271479</td>\n",
       "      <td>298.560117</td>\n",
       "      <td>rice</td>\n",
       "      <td>0.9098</td>\n",
       "      <td>20</td>\n",
       "    </tr>\n",
       "    <tr>\n",
       "      <th>1</th>\n",
       "      <td>60</td>\n",
       "      <td>43</td>\n",
       "      <td>44</td>\n",
       "      <td>21.019447</td>\n",
       "      <td>82.952217</td>\n",
       "      <td>7.416245</td>\n",
       "      <td>298.401847</td>\n",
       "      <td>rice</td>\n",
       "      <td>0.9096</td>\n",
       "      <td>20</td>\n",
       "    </tr>\n",
       "    <tr>\n",
       "      <th>2</th>\n",
       "      <td>93</td>\n",
       "      <td>47</td>\n",
       "      <td>37</td>\n",
       "      <td>21.533463</td>\n",
       "      <td>82.140041</td>\n",
       "      <td>6.500343</td>\n",
       "      <td>295.924880</td>\n",
       "      <td>rice</td>\n",
       "      <td>0.9094</td>\n",
       "      <td>20</td>\n",
       "    </tr>\n",
       "    <tr>\n",
       "      <th>3</th>\n",
       "      <td>79</td>\n",
       "      <td>42</td>\n",
       "      <td>37</td>\n",
       "      <td>24.873007</td>\n",
       "      <td>82.840226</td>\n",
       "      <td>6.587919</td>\n",
       "      <td>295.609449</td>\n",
       "      <td>rice</td>\n",
       "      <td>0.9092</td>\n",
       "      <td>20</td>\n",
       "    </tr>\n",
       "    <tr>\n",
       "      <th>4</th>\n",
       "      <td>88</td>\n",
       "      <td>35</td>\n",
       "      <td>40</td>\n",
       "      <td>23.579436</td>\n",
       "      <td>83.587603</td>\n",
       "      <td>5.853932</td>\n",
       "      <td>291.298662</td>\n",
       "      <td>rice</td>\n",
       "      <td>0.9090</td>\n",
       "      <td>20</td>\n",
       "    </tr>\n",
       "    <tr>\n",
       "      <th>...</th>\n",
       "      <td>...</td>\n",
       "      <td>...</td>\n",
       "      <td>...</td>\n",
       "      <td>...</td>\n",
       "      <td>...</td>\n",
       "      <td>...</td>\n",
       "      <td>...</td>\n",
       "      <td>...</td>\n",
       "      <td>...</td>\n",
       "      <td>...</td>\n",
       "    </tr>\n",
       "    <tr>\n",
       "      <th>2195</th>\n",
       "      <td>95</td>\n",
       "      <td>21</td>\n",
       "      <td>47</td>\n",
       "      <td>27.931142</td>\n",
       "      <td>93.561614</td>\n",
       "      <td>6.431971</td>\n",
       "      <td>20.661278</td>\n",
       "      <td>muskmelon</td>\n",
       "      <td>0.4708</td>\n",
       "      <td>15</td>\n",
       "    </tr>\n",
       "    <tr>\n",
       "      <th>2196</th>\n",
       "      <td>106</td>\n",
       "      <td>20</td>\n",
       "      <td>51</td>\n",
       "      <td>29.730197</td>\n",
       "      <td>90.970157</td>\n",
       "      <td>6.342573</td>\n",
       "      <td>20.490356</td>\n",
       "      <td>muskmelon</td>\n",
       "      <td>0.4706</td>\n",
       "      <td>15</td>\n",
       "    </tr>\n",
       "    <tr>\n",
       "      <th>2197</th>\n",
       "      <td>84</td>\n",
       "      <td>29</td>\n",
       "      <td>49</td>\n",
       "      <td>29.943492</td>\n",
       "      <td>93.907412</td>\n",
       "      <td>6.251420</td>\n",
       "      <td>20.390205</td>\n",
       "      <td>muskmelon</td>\n",
       "      <td>0.4704</td>\n",
       "      <td>15</td>\n",
       "    </tr>\n",
       "    <tr>\n",
       "      <th>2198</th>\n",
       "      <td>102</td>\n",
       "      <td>25</td>\n",
       "      <td>50</td>\n",
       "      <td>28.204808</td>\n",
       "      <td>92.914404</td>\n",
       "      <td>6.099662</td>\n",
       "      <td>20.360011</td>\n",
       "      <td>muskmelon</td>\n",
       "      <td>0.4702</td>\n",
       "      <td>15</td>\n",
       "    </tr>\n",
       "    <tr>\n",
       "      <th>2199</th>\n",
       "      <td>106</td>\n",
       "      <td>10</td>\n",
       "      <td>49</td>\n",
       "      <td>27.726531</td>\n",
       "      <td>92.006875</td>\n",
       "      <td>6.350624</td>\n",
       "      <td>20.211267</td>\n",
       "      <td>muskmelon</td>\n",
       "      <td>0.4700</td>\n",
       "      <td>15</td>\n",
       "    </tr>\n",
       "  </tbody>\n",
       "</table>\n",
       "<p>2200 rows × 10 columns</p>\n",
       "</div>"
      ],
      "text/plain": [
       "        N   P   K  temperature   humidity        ph    rainfall      label  \\\n",
       "0      82  40  40    23.830675  84.813601  6.271479  298.560117       rice   \n",
       "1      60  43  44    21.019447  82.952217  7.416245  298.401847       rice   \n",
       "2      93  47  37    21.533463  82.140041  6.500343  295.924880       rice   \n",
       "3      79  42  37    24.873007  82.840226  6.587919  295.609449       rice   \n",
       "4      88  35  40    23.579436  83.587603  5.853932  291.298662       rice   \n",
       "...   ...  ..  ..          ...        ...       ...         ...        ...   \n",
       "2195   95  21  47    27.931142  93.561614  6.431971   20.661278  muskmelon   \n",
       "2196  106  20  51    29.730197  90.970157  6.342573   20.490356  muskmelon   \n",
       "2197   84  29  49    29.943492  93.907412  6.251420   20.390205  muskmelon   \n",
       "2198  102  25  50    28.204808  92.914404  6.099662   20.360011  muskmelon   \n",
       "2199  106  10  49    27.726531  92.006875  6.350624   20.211267  muskmelon   \n",
       "\n",
       "      productivity  target  \n",
       "0           0.9098      20  \n",
       "1           0.9096      20  \n",
       "2           0.9094      20  \n",
       "3           0.9092      20  \n",
       "4           0.9090      20  \n",
       "...            ...     ...  \n",
       "2195        0.4708      15  \n",
       "2196        0.4706      15  \n",
       "2197        0.4704      15  \n",
       "2198        0.4702      15  \n",
       "2199        0.4700      15  \n",
       "\n",
       "[2200 rows x 10 columns]"
      ]
     },
     "execution_count": 40,
     "metadata": {},
     "output_type": "execute_result"
    }
   ],
   "source": [
    "ds"
   ]
  },
  {
   "cell_type": "code",
   "execution_count": 41,
   "id": "8b637428",
   "metadata": {},
   "outputs": [],
   "source": [
    "x=ds[['N','P','K','temperature','humidity','ph','rainfall','target']]\n",
    "y=ds.productivity"
   ]
  },
  {
   "cell_type": "code",
   "execution_count": 42,
   "id": "f1880b5b",
   "metadata": {},
   "outputs": [],
   "source": [
    "xtrain,xtest,ytrain,ytest=model_selection.train_test_split(x,y,test_size=0.4,random_state=0)"
   ]
  },
  {
   "cell_type": "code",
   "execution_count": 12,
   "id": "bbc7555b",
   "metadata": {},
   "outputs": [
    {
     "name": "stdout",
     "output_type": "stream",
     "text": [
      "(1320, 8)\n",
      "(880, 8)\n",
      "(1320,)\n",
      "(880,)\n"
     ]
    }
   ],
   "source": [
    "print(xtrain.shape)\n",
    "print(xtest.shape)\n",
    "print(ytrain.shape)\n",
    "print(ytest.shape)"
   ]
  },
  {
   "cell_type": "code",
   "execution_count": 13,
   "id": "78788298",
   "metadata": {},
   "outputs": [],
   "source": [
    "algo_LR=LinearRegression()"
   ]
  },
  {
   "cell_type": "code",
   "execution_count": 14,
   "id": "fa0fd1f3",
   "metadata": {},
   "outputs": [
    {
     "data": {
      "text/plain": [
       "LinearRegression()"
      ]
     },
     "execution_count": 14,
     "metadata": {},
     "output_type": "execute_result"
    }
   ],
   "source": [
    "algo_LR.fit(xtrain,ytrain)"
   ]
  },
  {
   "cell_type": "code",
   "execution_count": 15,
   "id": "e620735d",
   "metadata": {},
   "outputs": [],
   "source": [
    "ypredict=algo_LR.predict(xtest)"
   ]
  },
  {
   "cell_type": "code",
   "execution_count": 16,
   "id": "4a4f896c",
   "metadata": {},
   "outputs": [
    {
     "data": {
      "text/plain": [
       "(0.9031284173262835, 0.9166171273810192)"
      ]
     },
     "execution_count": 16,
     "metadata": {},
     "output_type": "execute_result"
    }
   ],
   "source": [
    "score_on_training_data=algo_LR.score(xtrain,ytrain)\n",
    "score_on_testing_data=algo_LR.score(xtest,ytest)\n",
    "score_on_testing_data,score_on_training_data"
   ]
  },
  {
   "cell_type": "code",
   "execution_count": 17,
   "id": "663ccbad",
   "metadata": {},
   "outputs": [
    {
     "data": {
      "image/png": "[encoded data removed]",
      "text/plain": [
       "<Figure size 640x480 with 1 Axes>"
      ]
     },
     "metadata": {},
     "output_type": "display_data"
    }
   ],
   "source": [
    "mp.scatter(ypredict,ytest)\n",
    "mp.show()"
   ]
  },
  {
   "cell_type": "code",
   "execution_count": 18,
   "id": "3f25370c",
   "metadata": {},
   "outputs": [
    {
     "data": {
      "text/plain": [
       "array([-1.83573758e-04, -2.62948583e-04,  9.98319540e-05, -1.05715417e-03,\n",
       "        5.56957080e-05, -7.26109180e-03,  2.21527477e-03, -2.31809031e-03])"
      ]
     },
     "execution_count": 18,
     "metadata": {},
     "output_type": "execute_result"
    }
   ],
   "source": [
    "algo_LR.coef_"
   ]
  },
  {
   "cell_type": "code",
   "execution_count": 19,
   "id": "44840713",
   "metadata": {},
   "outputs": [
    {
     "data": {
      "text/plain": [
       "0.5740387801860471"
      ]
     },
     "execution_count": 19,
     "metadata": {},
     "output_type": "execute_result"
    }
   ],
   "source": [
    "algo_LR.intercept_"
   ]
  },
  {
   "cell_type": "code",
   "execution_count": 20,
   "id": "e1a28c21",
   "metadata": {},
   "outputs": [
    {
     "data": {
      "image/png": "[encoded data removed]",
      "text/plain": [
       "<Figure size 640x480 with 1 Axes>"
      ]
     },
     "metadata": {},
     "output_type": "display_data"
    }
   ],
   "source": [
    "xline=np.arange(0,3,0.1)\n",
    "yline=(xline*algo_LR.coef_[0])+algo_LR.intercept_\n",
    "\n",
    "mp.scatter(ytest,ypredict)\n",
    "mp.plot(xline,yline,\"r\")\n",
    "mp.axis([0.4,0.98,0.4,1])\n",
    "mp.show()"
   ]
  },
  {
   "cell_type": "code",
   "execution_count": 21,
   "id": "e17a605f",
   "metadata": {},
   "outputs": [],
   "source": [
    "xtest1,xtest2,ytest1,ytest2=model_selection.train_test_split(xtest,ytest,test_size=0.5,random_state=1)"
   ]
  },
  {
   "cell_type": "code",
   "execution_count": 22,
   "id": "8a8bed8b",
   "metadata": {},
   "outputs": [],
   "source": [
    "ypredicted1=algo_LR.predict(xtest1)"
   ]
  },
  {
   "cell_type": "code",
   "execution_count": 23,
   "id": "02e76bbe",
   "metadata": {},
   "outputs": [
    {
     "data": {
      "image/png": "[encoded data removed]",
      "text/plain": [
       "<Figure size 640x480 with 1 Axes>"
      ]
     },
     "metadata": {},
     "output_type": "display_data"
    }
   ],
   "source": [
    "mp.scatter(ypredicted1,ytest1)\n",
    "mp.show()"
   ]
  },
  {
   "cell_type": "code",
   "execution_count": 24,
   "id": "17ddf2f5",
   "metadata": {},
   "outputs": [],
   "source": [
    "ypredicted2=algo_LR.predict(xtest2)"
   ]
  },
  {
   "cell_type": "code",
   "execution_count": 25,
   "id": "de216f4b",
   "metadata": {},
   "outputs": [
    {
     "data": {
      "image/png": "[encoded data removed]",
      "text/plain": [
       "<Figure size 640x480 with 1 Axes>"
      ]
     },
     "metadata": {},
     "output_type": "display_data"
    }
   ],
   "source": [
    "mp.scatter(ypredicted2,ytest2)\n",
    "mp.show()"
   ]
  },
  {
   "cell_type": "code",
   "execution_count": 26,
   "id": "48514047",
   "metadata": {},
   "outputs": [
    {
     "name": "stdout",
     "output_type": "stream",
     "text": [
      "Score on xtest1 = 92.15314638091183 %\n",
      "Score on xtest2 = 88.40270986706767 %\n"
     ]
    }
   ],
   "source": [
    "print(\"Score on xtest1 =\",algo_LR.score(xtest1,ytest1)*100,\"%\")\n",
    "print(\"Score on xtest2 =\",algo_LR.score(xtest2,ytest2)*100,\"%\")"
   ]
  },
  {
   "cell_type": "markdown",
   "id": "eaa7dd6d",
   "metadata": {},
   "source": [
    "### predicting productivity on a random input from the data set"
   ]
  },
  {
   "cell_type": "code",
   "execution_count": 27,
   "id": "25223beb",
   "metadata": {},
   "outputs": [],
   "source": [
    "inpt=[]\n",
    "inpt.append((xtrain.iloc[1240,:]).tolist())"
   ]
  },
  {
   "cell_type": "code",
   "execution_count": 28,
   "id": "a45128e5",
   "metadata": {},
   "outputs": [
    {
     "data": {
      "text/plain": [
       "[[22.0, 17.0, 5.0, 24.12188673, 90.72351622, 6.945562889, 102.835632, 16.0]]"
      ]
     },
     "execution_count": 28,
     "metadata": {},
     "output_type": "execute_result"
    }
   ],
   "source": [
    "inpt"
   ]
  },
  {
   "cell_type": "code",
   "execution_count": 29,
   "id": "02241aa2",
   "metadata": {},
   "outputs": [
    {
     "name": "stderr",
     "output_type": "stream",
     "text": [
      "/Users/harshdixit/opt/anaconda3/lib/python3.9/site-packages/sklearn/base.py:450: UserWarning: X does not have valid feature names, but LinearRegression was fitted with feature names\n",
      "  warnings.warn(\n"
     ]
    }
   ],
   "source": [
    "opt=algo_LR.predict(inpt)"
   ]
  },
  {
   "cell_type": "code",
   "execution_count": 30,
   "id": "e798cbe8",
   "metadata": {},
   "outputs": [
    {
     "name": "stdout",
     "output_type": "stream",
     "text": [
      "[0.68586891]\n"
     ]
    }
   ],
   "source": [
    "print(opt)"
   ]
  }
 ],
 "metadata": {
  "kernelspec": {
   "display_name": "Python 3 (ipykernel)",
   "language": "python",
   "name": "python3"
  },
  "language_info": {
   "codemirror_mode": {
    "name": "ipython",
    "version": 3
   },
   "file_extension": ".py",
   "mimetype": "text/x-python",
   "name": "python",
   "nbconvert_exporter": "python",
   "pygments_lexer": "ipython3",
   "version": "3.9.13"
  }
 },
 "nbformat": 4,
 "nbformat_minor": 5
}
